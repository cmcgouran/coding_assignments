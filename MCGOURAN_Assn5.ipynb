{
 "cells": [
  {
   "cell_type": "markdown",
   "metadata": {},
   "source": [
    "McGouran Assn. 5 \n",
    "Pt. 1 - Goal is to determine how many guests will be eating turkey from guest_list.txt"
   ]
  },
  {
   "cell_type": "markdown",
   "metadata": {},
   "source": [
    "#pathway to guest_list.txt\n",
    "#open the file"
   ]
  },
  {
   "cell_type": "code",
   "execution_count": 82,
   "metadata": {},
   "outputs": [
    {
     "name": "stdout",
     "output_type": "stream",
     "text": [
      "Person\tVegetarian\n",
      "Fred\tNo\n",
      "Jamie\tNo\n",
      "Shelly\tYes\n",
      "Eileen\tNo\n",
      "Willard\tYes\n",
      "Mike\tSometimes\n",
      "Anna\tNo\n",
      "Marie\tYes\n",
      "Marian\tSometimes\n",
      "Jessica\tNo\n",
      "Alan\tNo\n",
      "Rebecca\tNo\n",
      "Bonnie\tNo\n",
      "Mark\tNo\n",
      "Leslie\tYes\n",
      "Rachel\tNo\n",
      "Olivia\tNo\n",
      "Chelsea\tNo\n",
      "\n"
     ]
    }
   ],
   "source": [
    "with open('/Users/tiffanymcgouran/Desktop/Carissa/Turkey_Day/guest_list.txt') as file_object:\n",
    "    contents= file_object.read()\n",
    "    print(contents)"
   ]
  },
  {
   "cell_type": "markdown",
   "metadata": {},
   "source": [
    "#count the occurance of the words \"No\" and \"Sometimes\" in the guest_list.txt"
   ]
  },
  {
   "cell_type": "code",
   "execution_count": 83,
   "metadata": {
    "scrolled": true
   },
   "outputs": [
    {
     "name": "stdout",
     "output_type": "stream",
     "text": [
      "Number of occurrences of the word : 12\n",
      "Number of occurrences of the word : 2\n"
     ]
    }
   ],
   "source": [
    "gl = open(\"/Users/tiffanymcgouran/Desktop/Carissa/Turkey_Day/guest_list.txt\", \"r\")\n",
    "data = gl.read()\n",
    "no = data.count(\"No\")\n",
    "\n",
    "print('Number of occurrences of the word :', no)\n",
    "\n",
    "file = open(\"/Users/tiffanymcgouran/Desktop/Carissa/Turkey_Day/guest_list.txt\", \"r\")\n",
    "data = file.read()\n",
    "st = data.count(\"Sometimes\")\n",
    "\n",
    "print('Number of occurrences of the word :', st)"
   ]
  },
  {
   "cell_type": "markdown",
   "metadata": {},
   "source": [
    "#add variables of 'no' and 'sometimes' to get the total number of turkey eaters"
   ]
  },
  {
   "cell_type": "code",
   "execution_count": 84,
   "metadata": {},
   "outputs": [
    {
     "name": "stdout",
     "output_type": "stream",
     "text": [
      "The total number of turkey eaters is: 14\n"
     ]
    }
   ],
   "source": [
    "te = st + no\n",
    "print('The total number of turkey eaters is:', te)"
   ]
  },
  {
   "cell_type": "markdown",
   "metadata": {},
   "source": [
    "Pt.2 - Goal is to compare the value of turkey eaters for the min LB for turkey size. "
   ]
  },
  {
   "cell_type": "markdown",
   "metadata": {},
   "source": [
    "#open turkey_size.txt"
   ]
  },
  {
   "cell_type": "code",
   "execution_count": 85,
   "metadata": {
    "scrolled": true
   },
   "outputs": [
    {
     "name": "stdout",
     "output_type": "stream",
     "text": [
      "Max_Guests\tMin_Pounds\n",
      "4\t5\n",
      "6\t8\n",
      "8\t10\n",
      "10\t13\n",
      "12\t15\n",
      "15\t20\n",
      "20\t25\n",
      "\n"
     ]
    }
   ],
   "source": [
    "turkey_size = open(\"/Users/tiffanymcgouran/Desktop/Carissa/Turkey_Day/turkey_size.txt\", \"r\")\n",
    "ts = turkey_size.read()\n",
    "print(ts)"
   ]
  },
  {
   "cell_type": "markdown",
   "metadata": {},
   "source": [
    "#import pandas in order to access pd funtions and turn ts into a dataframe. "
   ]
  },
  {
   "cell_type": "code",
   "execution_count": 86,
   "metadata": {},
   "outputs": [
    {
     "data": {
      "text/html": [
       "<div>\n",
       "<style scoped>\n",
       "    .dataframe tbody tr th:only-of-type {\n",
       "        vertical-align: middle;\n",
       "    }\n",
       "\n",
       "    .dataframe tbody tr th {\n",
       "        vertical-align: top;\n",
       "    }\n",
       "\n",
       "    .dataframe thead th {\n",
       "        text-align: right;\n",
       "    }\n",
       "</style>\n",
       "<table border=\"1\" class=\"dataframe\">\n",
       "  <thead>\n",
       "    <tr style=\"text-align: right;\">\n",
       "      <th></th>\n",
       "      <th>MG</th>\n",
       "      <th>min_LB</th>\n",
       "    </tr>\n",
       "  </thead>\n",
       "  <tbody>\n",
       "    <tr>\n",
       "      <th>0</th>\n",
       "      <td>4</td>\n",
       "      <td>5</td>\n",
       "    </tr>\n",
       "    <tr>\n",
       "      <th>1</th>\n",
       "      <td>6</td>\n",
       "      <td>8</td>\n",
       "    </tr>\n",
       "    <tr>\n",
       "      <th>2</th>\n",
       "      <td>8</td>\n",
       "      <td>10</td>\n",
       "    </tr>\n",
       "    <tr>\n",
       "      <th>3</th>\n",
       "      <td>10</td>\n",
       "      <td>13</td>\n",
       "    </tr>\n",
       "    <tr>\n",
       "      <th>4</th>\n",
       "      <td>12</td>\n",
       "      <td>15</td>\n",
       "    </tr>\n",
       "    <tr>\n",
       "      <th>5</th>\n",
       "      <td>15</td>\n",
       "      <td>20</td>\n",
       "    </tr>\n",
       "    <tr>\n",
       "      <th>6</th>\n",
       "      <td>20</td>\n",
       "      <td>25</td>\n",
       "    </tr>\n",
       "  </tbody>\n",
       "</table>\n",
       "</div>"
      ],
      "text/plain": [
       "   MG min_LB\n",
       "0   4      5\n",
       "1   6      8\n",
       "2   8     10\n",
       "3  10     13\n",
       "4  12     15\n",
       "5  15     20\n",
       "6  20     25"
      ]
     },
     "execution_count": 86,
     "metadata": {},
     "output_type": "execute_result"
    }
   ],
   "source": [
    "import pandas as pd  \n",
    "turkey_size = {'MG':['4', '6', '8', '10', '12', '15', '20'], \n",
    "        'min_LB':['5','8','10','13','15','20','25']} \n",
    "  \n",
    "df = pd.DataFrame(turkey_size) \n",
    "df"
   ]
  },
  {
   "cell_type": "markdown",
   "metadata": {},
   "source": [
    "#compare the variable te \"turkey_eaters\" to the MG/min_LB needed. "
   ]
  },
  {
   "cell_type": "code",
   "execution_count": 87,
   "metadata": {},
   "outputs": [
    {
     "data": {
      "text/html": [
       "<div>\n",
       "<style scoped>\n",
       "    .dataframe tbody tr th:only-of-type {\n",
       "        vertical-align: middle;\n",
       "    }\n",
       "\n",
       "    .dataframe tbody tr th {\n",
       "        vertical-align: top;\n",
       "    }\n",
       "\n",
       "    .dataframe thead th {\n",
       "        text-align: right;\n",
       "    }\n",
       "</style>\n",
       "<table border=\"1\" class=\"dataframe\">\n",
       "  <thead>\n",
       "    <tr style=\"text-align: right;\">\n",
       "      <th></th>\n",
       "      <th>MG</th>\n",
       "      <th>min_LB</th>\n",
       "    </tr>\n",
       "  </thead>\n",
       "  <tbody>\n",
       "    <tr>\n",
       "      <th>5</th>\n",
       "      <td>15</td>\n",
       "      <td>20</td>\n",
       "    </tr>\n",
       "    <tr>\n",
       "      <th>6</th>\n",
       "      <td>20</td>\n",
       "      <td>25</td>\n",
       "    </tr>\n",
       "  </tbody>\n",
       "</table>\n",
       "</div>"
      ],
      "text/plain": [
       "   MG  min_LB\n",
       "5  15      20\n",
       "6  20      25"
      ]
     },
     "execution_count": 87,
     "metadata": {},
     "output_type": "execute_result"
    }
   ],
   "source": [
    "cols = ['MG', 'min_LB']\n",
    "    #make the column names in the df a variable col. \n",
    "df[cols] = df[cols].apply(pd.to_numeric)\n",
    "    #use pd to change cols to numeric so the logic is the same (override string/int issue with >= sign)\n",
    "df[df['MG'].values>=te]\n",
    "    #print the elements in the df where MG is greater or equal to te. You can then select the lowest value. "
   ]
  },
  {
   "cell_type": "markdown",
   "metadata": {},
   "source": [
    "Pt. 3 - Goal is to add the three new guests to the guest_list.txt file and rerun the code to find our new number of total turkey eaters & the minimum pounds of turkey needed to feed the maximum amount of guests. "
   ]
  },
  {
   "cell_type": "code",
   "execution_count": 88,
   "metadata": {},
   "outputs": [
    {
     "name": "stdout",
     "output_type": "stream",
     "text": [
      "The total number of turkey eaters is: 16\n"
     ]
    },
    {
     "data": {
      "text/html": [
       "<div>\n",
       "<style scoped>\n",
       "    .dataframe tbody tr th:only-of-type {\n",
       "        vertical-align: middle;\n",
       "    }\n",
       "\n",
       "    .dataframe tbody tr th {\n",
       "        vertical-align: top;\n",
       "    }\n",
       "\n",
       "    .dataframe thead th {\n",
       "        text-align: right;\n",
       "    }\n",
       "</style>\n",
       "<table border=\"1\" class=\"dataframe\">\n",
       "  <thead>\n",
       "    <tr style=\"text-align: right;\">\n",
       "      <th></th>\n",
       "      <th>MG</th>\n",
       "      <th>min_LB</th>\n",
       "    </tr>\n",
       "  </thead>\n",
       "  <tbody>\n",
       "    <tr>\n",
       "      <th>6</th>\n",
       "      <td>20</td>\n",
       "      <td>25</td>\n",
       "    </tr>\n",
       "  </tbody>\n",
       "</table>\n",
       "</div>"
      ],
      "text/plain": [
       "   MG  min_LB\n",
       "6  20      25"
      ]
     },
     "execution_count": 88,
     "metadata": {},
     "output_type": "execute_result"
    }
   ],
   "source": [
    "#open guest_list.txt again and append in the new data. \n",
    "with open('/Users/tiffanymcgouran/Desktop/Carissa/Turkey_Day/guest_list.txt', 'a+') as file_object:\n",
    "    contents= file_object.write(\"Larry No\\nMoe Yes\\nCurly Sometimes\")\n",
    "#calculate the new number of 'no' responses. \n",
    "gl = open(\"/Users/tiffanymcgouran/Desktop/Carissa/Turkey_Day/guest_list.txt\", \"r\")\n",
    "data = gl.read()\n",
    "no = data.count(\"No\")\n",
    "#calculate the number of 'sometimes' responses. \n",
    "file = open(\"/Users/tiffanymcgouran/Desktop/Carissa/Turkey_Day/guest_list.txt\", \"r\")\n",
    "data = file.read()\n",
    "st = data.count(\"Sometimes\")\n",
    "#Calculate the total number of turkey_eaters \"te\" by adding together 'no' responses and the 'sometimes' responses\n",
    "te = st + no\n",
    "print('The total number of turkey eaters is:', te)\n",
    "\n",
    "\n",
    "\n",
    "\n",
    "#find new min_LB for new te value.\n",
    "cols = ['MG', 'min_LB']\n",
    "    #make the column names in the df a variable col. \n",
    "df[cols] = df[cols].apply(pd.to_numeric)\n",
    "    #use pd to change cols to numeric so the logic is the same (override string/int issue with >= sign)\n",
    "df[df['MG'].values>=te]\n",
    "    #print the elements in the df where MG is greater or equal to te. You can then select the lowest value. "
   ]
  },
  {
   "cell_type": "code",
   "execution_count": 89,
   "metadata": {},
   "outputs": [
    {
     "name": "stdout",
     "output_type": "stream",
     "text": [
      "You are done!\n"
     ]
    }
   ],
   "source": [
    "print('You are done!')"
   ]
  }
 ],
 "metadata": {
  "kernelspec": {
   "display_name": "Python 3",
   "language": "python",
   "name": "python3"
  },
  "language_info": {
   "codemirror_mode": {
    "name": "ipython",
    "version": 3
   },
   "file_extension": ".py",
   "mimetype": "text/x-python",
   "name": "python",
   "nbconvert_exporter": "python",
   "pygments_lexer": "ipython3",
   "version": "3.8.5"
  }
 },
 "nbformat": 4,
 "nbformat_minor": 4
}
